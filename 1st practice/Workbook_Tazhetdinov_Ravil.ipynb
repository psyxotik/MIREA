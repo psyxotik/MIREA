{
 "cells": [
  {
   "cell_type": "markdown",
   "id": "fbef6d6e-7424-4c60-b5c6-e839ec340ed4",
   "metadata": {},
   "source": [
    "## Задание 1.\n",
    "    Приведите пример стандартных математических операций с переменной\n",
    "    типа int."
   ]
  },
  {
   "cell_type": "code",
   "execution_count": 1,
   "id": "cbbfcdba-f2d9-4569-86bf-bb1568b6d8e3",
   "metadata": {},
   "outputs": [
    {
     "name": "stdin",
     "output_type": "stream",
     "text": [
      " 21\n",
      " 3\n"
     ]
    },
    {
     "name": "stdout",
     "output_type": "stream",
     "text": [
      "24 18 63 7.0\n"
     ]
    }
   ],
   "source": [
    "a = int(input())\n",
    "b = int(input())\n",
    "print(a + b, a - b, a * b, a / b)"
   ]
  },
  {
   "cell_type": "markdown",
   "id": "ce3ce33d-22ea-48cf-9f21-1b2850b71fa3",
   "metadata": {},
   "source": [
    "## Задание 2.\n",
    "    Присвойте переменной типа int большое число (значение указать\n",
    "    больше, чем значение целочисленной переменной на языках класса СИ)."
   ]
  },
  {
   "cell_type": "code",
   "execution_count": 2,
   "id": "02805c55-53c7-483a-bbe5-041ccbd499cd",
   "metadata": {},
   "outputs": [
    {
     "name": "stdout",
     "output_type": "stream",
     "text": [
      "<class 'int'>\n"
     ]
    }
   ],
   "source": [
    "a = 9223372036854775807 + 1\n",
    "print(type(a))"
   ]
  },
  {
   "cell_type": "markdown",
   "id": "ef747805-34a1-44f1-9226-abf8a6ec1402",
   "metadata": {},
   "source": [
    "## Задание 3\n",
    "    Приведите пример стандартных операций с переменной типа float.\n",
    "    Напишите комментарии к операциям в строке с операцией.\n",
    "    Пример: af = 4.2 + 5.1 # сложение вещественных чисел."
   ]
  },
  {
   "cell_type": "code",
   "execution_count": 3,
   "id": "ea7b704a-1dd2-4456-93cf-8ec7d2311a6c",
   "metadata": {},
   "outputs": [
    {
     "name": "stdin",
     "output_type": "stream",
     "text": [
      " 21.5\n",
      " 74.7\n"
     ]
    },
    {
     "name": "stdout",
     "output_type": "stream",
     "text": [
      "96.2 -53.2 1606.05 0.28781793842034803\n"
     ]
    }
   ],
   "source": [
    "a = float(input())\n",
    "b = float(input())\n",
    "print(a + b, a - b, a * b, a / b)"
   ]
  },
  {
   "cell_type": "markdown",
   "id": "a65849d2-45d4-4ef5-9585-fa08258ffaa7",
   "metadata": {},
   "source": [
    "## Задание 4.\n",
    "    Приведите примеры переменных типа bool.\n",
    "    У типа bool существует связь с типом int - переменная со значением True\n",
    "    соответствует int'овой переменной со значением 1, а переменная со\n",
    "    значением False - int'овой переменной со значением 0.\n",
    "    Пример дополнить демонстрацией взаимосвязи с типом int."
   ]
  },
  {
   "cell_type": "code",
   "execution_count": 4,
   "id": "35bc5e98-5a84-46c4-8588-6b82c67d8534",
   "metadata": {},
   "outputs": [
    {
     "name": "stdout",
     "output_type": "stream",
     "text": [
      "pass\n"
     ]
    }
   ],
   "source": [
    "a = False\n",
    "if not(a) and 10:\n",
    "    print('pass')\n"
   ]
  },
  {
   "cell_type": "markdown",
   "id": "b7a308de-7d55-4bf6-99b7-fa0e31d7e690",
   "metadata": {},
   "source": [
    "## Задание 5.\n",
    "    Присвойте переменной x значение БФБО, а переменной у номер группы и\n",
    "    год поступления. Пример на конкатенацию – указать свою группу."
   ]
  },
  {
   "cell_type": "code",
   "execution_count": 5,
   "id": "3b720028-1301-457a-8bc6-593d7aa5d659",
   "metadata": {},
   "outputs": [
    {
     "name": "stdout",
     "output_type": "stream",
     "text": [
      "БФБО-07-24\n"
     ]
    }
   ],
   "source": [
    "x = 'БФБО'\n",
    "y = '-07-24'\n",
    "print(x + y)"
   ]
  },
  {
   "cell_type": "markdown",
   "id": "12f8efb8-5bbb-4103-be7a-437106525868",
   "metadata": {},
   "source": [
    "## Задание 6.\n",
    "    Введите с клавиатуры два числа, одно типа float, второе типа int. Выполните\n",
    "    сложение. Определите тип данных результата."
   ]
  },
  {
   "cell_type": "code",
   "execution_count": 6,
   "id": "00eed114-c43d-42ed-a86a-1684c95caf71",
   "metadata": {},
   "outputs": [
    {
     "name": "stdin",
     "output_type": "stream",
     "text": [
      " 32.9\n",
      " 1\n"
     ]
    },
    {
     "name": "stdout",
     "output_type": "stream",
     "text": [
      "33.9 <class 'float'>\n"
     ]
    }
   ],
   "source": [
    "a = float(input())\n",
    "b = int(input())\n",
    "c = a + b\n",
    "print(c, type(c))"
   ]
  },
  {
   "cell_type": "markdown",
   "id": "fa97c876-54f8-4e03-9233-4ecbcfa34aa0",
   "metadata": {},
   "source": [
    "## Задание 7.\n",
    "    Присвойте переменной n значение ФИО, а переменной nn группы.\n",
    "    Приведите переменные к верхнему регистру. Выполните сложение строк.\n",
    "    Выведите на печать результат сложения. Покажите, что метод не изменил\n",
    "    саму переменную."
   ]
  },
  {
   "cell_type": "code",
   "execution_count": 7,
   "id": "9ad7ad0b-fdef-4baa-ab39-30129e48b866",
   "metadata": {},
   "outputs": [
    {
     "name": "stdout",
     "output_type": "stream",
     "text": [
      "ТАЖЕТДИНОВ РАВИЛЬ РУСЛАНОВИЧ БФБО-07-24 Тажетдинов Равиль Русланович БФБО-07-24\n"
     ]
    }
   ],
   "source": [
    "n = 'Тажетдинов Равиль Русланович '\n",
    "nn = 'БФБО-07-24'\n",
    "print(n.upper() + nn.upper(), n + nn)"
   ]
  },
  {
   "cell_type": "markdown",
   "id": "7c959b5d-1b3d-4def-a488-415b115b31e6",
   "metadata": {},
   "source": [
    "## Задание 8.\n",
    "    По аналогии с примером, приведите свои примеры типов данных.\n",
    "    Не забудьте инициализировать переменные и определить их тип ФИО и\n",
    "    группа."
   ]
  },
  {
   "cell_type": "code",
   "execution_count": 8,
   "id": "a4287c48-d780-49a4-9646-3333adeaa591",
   "metadata": {},
   "outputs": [
    {
     "name": "stdout",
     "output_type": "stream",
     "text": [
      "все типы данных: Тажетдинов Равиль Русланович (['Тажетдинов', 'Равиль', 'Русланович']) - <class 'list'>, БФБО-07-24 ({'Letters': 'БФБО', 'Number': '07', 'year': '24'}) - <class 'dict'>, {'erse', 'rev'} - <class 'set'>, True - <class 'bool'>, (13, '07', 24.0) - <class 'tuple'>, 13 - <class 'int'>, 07 - <class 'str'>, 24.0 - <class 'float'>\n"
     ]
    }
   ],
   "source": [
    "full_name = ['Тажетдинов', 'Равиль', 'Русланович']\n",
    "group = {'Letters':'БФБО', 'Number':'07', 'year':'24' }\n",
    "uno = {'rev', 'erse'}\n",
    "GOAT = True\n",
    "birth = (13, '07', 24.0)\n",
    "g = None\n",
    "print(f'все типы данных: {\" \".join(full_name)} ({full_name}) - {type(full_name)}, {\"-\".join(list(group.values()))} ({group}) -'\n",
    "      f' {type(group)}, {uno} - {type(uno)}, {GOAT} - {type(GOAT)}, {birth} - {type(birth)}, {birth[0]} - '\n",
    "      f'{type(birth[0])}, {birth[1]} - {type(birth[1])}, {birth[2]} - {type(birth[2])}')"
   ]
  },
  {
   "cell_type": "markdown",
   "id": "036c91af-765d-4637-bd94-8caa36bcebd1",
   "metadata": {},
   "source": [
    "## Задание 9.\n",
    "По аналогии с примером, приведите свои примеры задания множества.\n",
    "Множество может включать переменные разных типов. При задании\n",
    "элементов множества укажите 5 элементов типа int (два одинаковых и\n",
    "для других типов тоже), 5 - типа float, 5 - элементов типа str.\n",
    "В комментарии опишите отличие множества от массива. Укажите\n",
    "мощность множества."
   ]
  },
  {
   "cell_type": "code",
   "execution_count": 9,
   "id": "e67e93a5-6d2b-4d00-80cc-68ccbd49dc27",
   "metadata": {},
   "outputs": [
    {
     "name": "stdout",
     "output_type": "stream",
     "text": [
      "712\n",
      "13\n"
     ]
    }
   ],
   "source": [
    "a = set()\n",
    "b = {1,1,2,3,4,'','','a','b','c',21.3,22.4,21.3,24.6,20.7, (1, 2)}\n",
    "#множество в отличие от списка неупорядоченно, в множествах нельзя хранить изменяемые объекты\n",
    "#к множеству нельзя обратиться по индексу, в множествах не может быть повторяющегося элемента\n",
    "#элементы множества не могут быть изменены или заменены\n",
    "print(b.__sizeof__())\n",
    "print(len(b))"
   ]
  },
  {
   "cell_type": "markdown",
   "id": "f99315b5-f89a-4b24-bfc6-ee41ea5cd825",
   "metadata": {},
   "source": [
    "## Задание 10.\n",
    "    По аналогии с примерами, приведите свои варианты операций над\n",
    "    множествами. Не забывайте заголовки и комментарии – это хороший тон\n",
    "    в программировании.\n"
   ]
  },
  {
   "cell_type": "code",
   "execution_count": 10,
   "id": "11ed289f-7387-452e-87d4-622cd412ec1c",
   "metadata": {},
   "outputs": [
    {
     "name": "stdout",
     "output_type": "stream",
     "text": [
      "{41, 12, 13, 14, 15, 51, 21, 31}\n",
      "{12, 15}\n",
      "{13, 51, 21, 41, 31, 14}\n",
      "{13, 21, 31}\n",
      "{41, 51, 14}\n"
     ]
    }
   ],
   "source": [
    "\"\"\"Операции над множествами\"\"\"\n",
    "\n",
    "a = {12, 13, 21, 31, 15}\n",
    "b = {14, 15, 41, 51, 12}\n",
    "\n",
    "print(a | b) #объединение множеств\n",
    "print(a & b) #пересечение множеств\n",
    "print(a ^ b) #симметричная разность множеств\n",
    "print(a - b) #разность множеств\n",
    "print(b - a) #разность множеств"
   ]
  },
  {
   "cell_type": "markdown",
   "id": "180c2313-3180-4e12-86a2-76ac2a892c4c",
   "metadata": {},
   "source": [
    "## Задание 11.\n",
    "    Задайте два множества\n",
    "    Set1 = {1, 4, 5, 3, 5},\n",
    "    Set2 = {4,5}.\n",
    "    Примените к множеству Set2 метод .issubset(). В комментарии напишите,\n",
    "    что определяет данный метод."
   ]
  },
  {
   "cell_type": "code",
   "execution_count": 11,
   "id": "e2bf8599-25d0-437b-8ae3-4ab469e112e8",
   "metadata": {},
   "outputs": [
    {
     "name": "stdout",
     "output_type": "stream",
     "text": [
      "True\n"
     ]
    }
   ],
   "source": [
    "Set1 = {1, 4, 5, 3, 5}\n",
    "Set2 = {4,5}\n",
    "print(Set2.issubset(Set1)) # данный метод определяет является ли множество Set2 подмножеством Set1"
   ]
  },
  {
   "cell_type": "markdown",
   "id": "0c8ebb76-098f-4713-bd22-e4df4635c4ab",
   "metadata": {},
   "source": [
    "## Задание 12.\n",
    "    Задайте два множества. Постройте диаграммы Венна для двух множеств.\n"
   ]
  },
  {
   "cell_type": "code",
   "execution_count": 1,
   "id": "1a23f6c5-66e3-4dba-a561-95e488cb8e40",
   "metadata": {},
   "outputs": [
    {
     "data": {
      "image/png": "[encoded data removed]",
      "text/plain": [
       "<Figure size 640x480 with 1 Axes>"
      ]
     },
     "metadata": {},
     "output_type": "display_data"
    }
   ],
   "source": [
    "from matplotlib_venn import venn2, venn2_circles\n",
    "from matplotlib import pyplot as plt\n",
    "venn2(subsets=({12, 15, 16}, {12, 13, 17}), set_labels=('A', 'B'), set_colors=('Yellow', 'Red'), alpha=0.7)\n",
    "venn2_circles(subsets=({12, 15, 16}, {12, 13, 17}))\n",
    "plt.show()"
   ]
  },
  {
   "cell_type": "markdown",
   "id": "d168105c-64ee-4d4a-b689-14afdfff9a22",
   "metadata": {},
   "source": [
    "## Задание 13.\n",
    "    Задайте три множества. Постройте диаграммы Венна для трех множеств."
   ]
  },
  {
   "cell_type": "code",
   "execution_count": 2,
   "id": "42dd5d7a-72b4-4f2a-a49d-b9b3f9cbd841",
   "metadata": {},
   "outputs": [
    {
     "data": {
      "image/png": "[encoded data removed]",
      "text/plain": [
       "<Figure size 640x480 with 1 Axes>"
      ]
     },
     "metadata": {},
     "output_type": "display_data"
    }
   ],
   "source": [
    "from matplotlib_venn import venn3, venn3_circles\n",
    "from matplotlib import pyplot as plt\n",
    "venn3(subsets=({12, 15, 16}, {12, 13, 17}, {23, 15, 17}), set_labels=('A', 'B', 'C'), set_colors=('Red', 'Green',\n",
    "                                                                                                  'Blue'),\n",
    "      alpha=1)\n",
    "venn3_circles(subsets=({12, 15, 16}, {12, 13, 17}, {23, 15, 17}))\n",
    "plt.show()"
   ]
  },
  {
   "cell_type": "markdown",
   "id": "974ea767-1305-4ac1-ab7f-6bbc1e74285d",
   "metadata": {},
   "source": [
    "## Задание 14.\n",
    "    Для универсального множества 𝑈 = {−5, −4, −3, −2, −1,1,2,3,4,5},\n",
    "    множества 𝐴, заданного списком, и для 𝐵, являющегося множеством\n",
    "    корней уравнения 𝑥^4 + 𝛼𝑥^3 + 𝛽𝑥^2 + 𝛾𝑥 + 𝛿 = 0.\n",
    "    Найти множества: 𝐴 ∪ 𝐵, 𝐵 ∩ 𝐴, 𝐴\\𝐵,𝐵\\𝐴, 𝐴∆𝐵,not(𝐵), 𝐶 = (𝐴∆𝐵)∆𝐴.\n"
   ]
  },
  {
   "cell_type": "markdown",
   "id": "8b2cfaa4-6f83-4910-84e0-aa59d18e56fa",
   "metadata": {},
   "source": [
    "    №22 𝐴 = -3, -1, 2, 4; 𝛼 = -2; 𝛽 = -15; 𝛾 = -4; 𝛿 = 20"
   ]
  },
  {
   "cell_type": "code",
   "execution_count": 3,
   "id": "9389809b-69ae-4418-bc6a-8c95401a4a8b",
   "metadata": {},
   "outputs": [
    {
     "name": "stdout",
     "output_type": "stream",
     "text": [
      "𝐴 ∪ 𝐵 - {1, 2, 4, 5, -4, -3, -1}, 𝐵 ∩ 𝐴 - {2}, 𝐴\\𝐵 - {4, -3, -1}, 𝐵\\𝐴 - {1, -4, 5}, 𝐴∆𝐵 - {1, 4, 5, -4, -3, -1}, not(𝐵) - {3, 4, -1, -5, -3, -2}, 𝐶 = (𝐴∆𝐵)∆𝐴 - {1, 2, 5, -4}\n"
     ]
    }
   ],
   "source": [
    "u = {-5, -4, -3, -2, -1, 1, 2, 3, 4, 5}\n",
    "a = {-3, -1, 2, 4}\n",
    "b = {-4, 1, 2, 5}\n",
    "print(f'𝐴 ∪ 𝐵 - {a | b}, 𝐵 ∩ 𝐴 - {b & a}, 𝐴\\𝐵 - {a - b}, 𝐵\\𝐴 - {b - a}, 𝐴∆𝐵 - {a ^ b}, not(𝐵) - {u - b}, 𝐶 = (𝐴∆𝐵)∆𝐴 - {(a ^ b) ^ a}')"
   ]
  },
  {
   "cell_type": "markdown",
   "id": "1ce30558-9ec5-4636-8603-37d3a6291abb",
   "metadata": {},
   "source": [
    "## Задание 15. Дополнительные задания.\n",
    "## 15.1\n",
    "    Сумма первых n положительных целых чисел. n - вводится с клавиатуры.\n",
    "    Код три строки."
   ]
  },
  {
   "cell_type": "code",
   "execution_count": 4,
   "id": "790e6103-74f1-4da6-a407-34a3b01dcbd0",
   "metadata": {},
   "outputs": [
    {
     "name": "stdin",
     "output_type": "stream",
     "text": [
      " 10\n"
     ]
    },
    {
     "name": "stdout",
     "output_type": "stream",
     "text": [
      "55\n"
     ]
    }
   ],
   "source": [
    "n = int(input())\n",
    "print(n * (1 + n) // 2)"
   ]
  },
  {
   "cell_type": "markdown",
   "id": "6981827c-de4d-4b76-ade3-6ff644a7e4b0",
   "metadata": {},
   "source": [
    "## 15.2\n",
    "    Сортировка трех чисел по возрастанию.\n",
    "    Без If и циклов.\n",
    "    Например, используя min() и max()."
   ]
  },
  {
   "cell_type": "code",
   "execution_count": 6,
   "id": "b20d826d-d06b-4ddb-994e-152eb90b003c",
   "metadata": {},
   "outputs": [
    {
     "name": "stdin",
     "output_type": "stream",
     "text": [
      " 41\n",
      " 52\n",
      " 10\n"
     ]
    },
    {
     "name": "stdout",
     "output_type": "stream",
     "text": [
      "10 41 52\n"
     ]
    }
   ],
   "source": [
    "a, b, c = int(input()), int(input()), int(input())\n",
    "a, b = min(a,b), max(a,b)\n",
    "b, c = min(b, c), max(b, c)\n",
    "a, b = min(a, b), max(a,b)\n",
    "print(a, b, c)"
   ]
  },
  {
   "cell_type": "code",
   "execution_count": null,
   "id": "bddffcec-4e37-4ca7-87a2-ab37a58e20b7",
   "metadata": {},
   "outputs": [],
   "source": []
  }
 ],
 "metadata": {
  "kernelspec": {
   "display_name": "Python 3 (ipykernel)",
   "language": "python",
   "name": "python3"
  },
  "language_info": {
   "codemirror_mode": {
    "name": "ipython",
    "version": 3
   },
   "file_extension": ".py",
   "mimetype": "text/x-python",
   "name": "python",
   "nbconvert_exporter": "python",
   "pygments_lexer": "ipython3",
   "version": "3.11.0"
  }
 },
 "nbformat": 4,
 "nbformat_minor": 5
}
