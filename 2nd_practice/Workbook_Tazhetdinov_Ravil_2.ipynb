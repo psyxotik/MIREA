{
 "cells": [
  {
   "cell_type": "markdown",
   "id": "57860b80",
   "metadata": {},
   "source": [
    "###### Задание 1.\n",
    "    Напишите код. Задается х, напечатать какому из интервалов принадлежит: (-infinity, -5), [-5, 5] или от (5, +infinity)."
   ]
  },
  {
   "cell_type": "code",
   "execution_count": 9,
   "id": "ebb8a888",
   "metadata": {},
   "outputs": [
    {
     "name": "stdin",
     "output_type": "stream",
     "text": [
      " 25\n"
     ]
    },
    {
     "name": "stdout",
     "output_type": "stream",
     "text": [
      "x принадлежит (5, +infinity)\n"
     ]
    }
   ],
   "source": [
    "x = int(input())\n",
    "if x  < -5:\n",
    "    print('x принадлежит (-infinity, -5)')\n",
    "elif x > 5:\n",
    "    print('x принадлежит (5, +infinity)')\n",
    "else:\n",
    "    print('x принадлежит [-5, 5]')"
   ]
  },
  {
   "cell_type": "markdown",
   "id": "ff9b6933",
   "metadata": {},
   "source": [
    "## Задание 2.\n",
    "    Напишите программу определяющую является ли год високосным.\n",
    "    Любой год, который делится на 4 без остатка, является високосным годом: например, 1988, 1992 и 1996 годы являются високосными годами.\n",
    "    Тем не менее, есть еще небольшая ошибка, которая должна быть учтена.\n",
    "    Чтобы устранить эту ошибку, григорианский календарь предусматривает, что год, который делится без остатка на 100 (например, 1900) является високосным годом только в том случае,\n",
    "    если он также без остатка делится на 400.\n",
    "    По этой причине следующие годы не являются високосными:\n",
    "    1700, 1800, 1900, 2100, 2200, 2300, 2500, 2600."
   ]
  },
  {
   "cell_type": "code",
   "execution_count": 11,
   "id": "43615f1f",
   "metadata": {},
   "outputs": [
    {
     "name": "stdin",
     "output_type": "stream",
     "text": [
      " 1000\n"
     ]
    },
    {
     "name": "stdout",
     "output_type": "stream",
     "text": [
      "невисокосный\n"
     ]
    }
   ],
   "source": [
    "year = int(input())\n",
    "if year % 4 == 0:\n",
    "    if year % 100 == 0 and year % 400 != 0:\n",
    "        print('невисокосный')\n",
    "    else:\n",
    "        print('високосный')\n",
    "else:\n",
    "    ('невисокосный')"
   ]
  },
  {
   "cell_type": "markdown",
   "id": "ed453737",
   "metadata": {},
   "source": [
    "## Задание 3.\n",
    "    Создайте список содержащий повторяющиеся переменные следующих типов: int, str, None, float, list, set, bool. В set задать повторяющиеся элементы в порядке убывания. Вывести на печать, обосновать вывод set в списке."
   ]
  },
  {
   "cell_type": "code",
   "execution_count": 12,
   "id": "274fdaa9",
   "metadata": {},
   "outputs": [
    {
     "name": "stdout",
     "output_type": "stream",
     "text": [
      "[9, 9, 'string', 'string', None, None, 19.5, 19.5, {1, 2, 3}, {1, 2, 3}, True, True] {None, True, 19.5, 'string', 9, 10, 11}\n",
      "т.к  set - неупорядоченный список элементов - выводит в случайном порядке\n"
     ]
    }
   ],
   "source": [
    "a = [9, 9, 'string', 'string', None, None, 19.5, 19.5, {1, 2, 3}, {1, 2, 3}, True, True]\n",
    "b = {11, 10, 9, 9, 'string', 'string', None, None, 19.5, 19.5, True, True}\n",
    "print(a, b)\n",
    "print('т.к  set - неупорядоченный список элементов - выводит в случайном порядке')"
   ]
  },
  {
   "cell_type": "markdown",
   "id": "774d036b-5e20-42f1-b776-5f44187615e5",
   "metadata": {},
   "source": [
    "## Задание 4.\n",
    "    Создайте список c_3 = [2, 'a', [4, 'stroka', 6.56], {5, 2, 3, 3, 4}],\n",
    "    продемонстрируйте результат применения методов .append() и .pop().\n",
    "    Результат [2, 'a', [4, 'stroka', 6.56], True]."
   ]
  },
  {
   "cell_type": "code",
   "execution_count": 3,
   "id": "24c8d65f-bc5a-490c-b791-1fb50da2c1e7",
   "metadata": {},
   "outputs": [
    {
     "name": "stdout",
     "output_type": "stream",
     "text": [
      "[2, 'a', [4, 'stroka', 6.56], True]\n"
     ]
    }
   ],
   "source": [
    "c_3 = [2, 'a', [4, 'stroka', 6.56], {5, 2, 3, 3, 4}]\n",
    "c_3.append(True)\n",
    "c_3.pop(-2)\n",
    "print(c_3)"
   ]
  },
  {
   "cell_type": "markdown",
   "id": "592a3f7a-6f98-4078-ad5a-f9fbc1470f25",
   "metadata": {},
   "source": [
    "## Задание 5\n",
    "    Создайте список. Приведите примеры на перечисленные выше методы\n",
    "    работы со списками."
   ]
  },
  {
   "cell_type": "code",
   "execution_count": 5,
   "id": "ccea3c9e-1b33-46f2-bb40-3ef91ba0179e",
   "metadata": {},
   "outputs": [
    {
     "name": "stdout",
     "output_type": "stream",
     "text": [
      "[12, 21, 11, 11]\n",
      "2\n",
      "1\n",
      "[11, 11, 12, 21] 4\n"
     ]
    }
   ],
   "source": [
    "spis = []\n",
    "spis.append(12)\n",
    "spis.append(21)\n",
    "spis.append(11)\n",
    "spis.append(11)\n",
    "print(spis)\n",
    "print(spis.count(11))\n",
    "print(spis.index(21))\n",
    "spis.sort()\n",
    "print(spis, len(spis))"
   ]
  },
  {
   "cell_type": "markdown",
   "id": "118ef6e8-06b3-4651-bfc6-476b5f8f0bd9",
   "metadata": {},
   "source": [
    "## Задание 6.\n",
    "    Создайте список. Приведите примеры срезов.\n",
    "    Напишите код, который все элементы массива x с четными индексами\n",
    "    переставит в обратном порядке. Т.е. если x = [0, 1, 2, 3, 4, 5, 6, 7, 8, 9], то\n",
    "    код должен сформировать [8, 1, 6, 3, 4, 5, 2, 7, 0, 9]"
   ]
  },
  {
   "cell_type": "code",
   "execution_count": 6,
   "id": "9c6d84e8-74a4-4a90-a35f-483ef68d7e16",
   "metadata": {},
   "outputs": [
    {
     "name": "stdout",
     "output_type": "stream",
     "text": [
      "[8, 1, 6, 3, 4, 5, 2, 7, 0, 9]\n"
     ]
    }
   ],
   "source": [
    "x = [0, 1, 3, 2, 4, 5, 6, 7, 8, 9]\n",
    "x.sort()\n",
    "c = list(reversed(x[0:9:2]))\n",
    "y = []\n",
    "for i in range(len(x)):\n",
    "    if i % 2 == 0:\n",
    "        y.append(c[i // 2])\n",
    "    else:\n",
    "        y.append(x[i])\n",
    "print(y)"
   ]
  },
  {
   "cell_type": "code",
   "execution_count": 9,
   "id": "5446c699-e42c-4ad4-9de8-addf6549758e",
   "metadata": {},
   "outputs": [
    {
     "name": "stdout",
     "output_type": "stream",
     "text": [
      "[8, 1, 6, 3, 4, 5, 2, 7, 0, 9]\n"
     ]
    }
   ],
   "source": [
    "x = [0, 1, 2, 3, 4, 5, 6, 7, 8, 9]\n",
    "even = x[::2][::-1]\n",
    "x[::2] = even\n",
    "print(x)"
   ]
  },
  {
   "cell_type": "markdown",
   "id": "685d3838-70d9-4e53-81b2-b6c7fc9173fb",
   "metadata": {},
   "source": [
    "## Задание 7.\n",
    "    Выведите числа из примера на while (пример 7) в обратном порядке."
   ]
  },
  {
   "cell_type": "code",
   "execution_count": 10,
   "id": "bd2461ef-2960-48db-bf41-87f27f2b5f83",
   "metadata": {},
   "outputs": [
    {
     "name": "stdout",
     "output_type": "stream",
     "text": [
      "10\n",
      "7\n",
      "4\n",
      "1\n"
     ]
    }
   ],
   "source": [
    "x = 10\n",
    "while x >= 1:\n",
    "    print(x)\n",
    "    x -= 3"
   ]
  },
  {
   "cell_type": "markdown",
   "id": "449dfadc-71a3-42a3-8586-916e3cd7531c",
   "metadata": {},
   "source": [
    "## Задание 8.\n",
    "    При решении задач машинного обучения часто в качестве объектов\n",
    "    исследования выступает человек. Создайте список значимых\n",
    "    характеристик (признаков), идентифицирующих человека. Выведите\n",
    "    список на экран. (Пример 8)."
   ]
  },
  {
   "cell_type": "code",
   "execution_count": 11,
   "id": "3035bdc2-be6c-46ac-a99b-6181b37dfa70",
   "metadata": {},
   "outputs": [
    {
     "name": "stdout",
     "output_type": "stream",
     "text": [
      "Gender\n",
      "Age\n",
      "Education\n",
      "Job\n",
      "Name\n",
      "Height\n",
      "Weight\n",
      "Income\n"
     ]
    }
   ],
   "source": [
    "human = ['Gender', 'Age', 'Education', 'Job', 'Name', 'Height', 'Weight', 'Income']\n",
    "for i in human:\n",
    "    print(i)"
   ]
  },
  {
   "cell_type": "markdown",
   "id": "5f3176bf-5ccc-4963-96cc-3d693917a1ba",
   "metadata": {},
   "source": [
    "## Задание 9.\n",
    "    Создать список чисел от 2 до 15 с шагом 1. (Пример 9)."
   ]
  },
  {
   "cell_type": "code",
   "execution_count": 12,
   "id": "9413f5ef-666c-4522-8949-44b78aa15bb9",
   "metadata": {},
   "outputs": [
    {
     "name": "stdout",
     "output_type": "stream",
     "text": [
      "[2, 3, 4, 5, 6, 7, 8, 9, 10, 11, 12, 13, 14]\n"
     ]
    }
   ],
   "source": [
    "x = [i for i in range(2, 15,1)]\n",
    "print(x)"
   ]
  },
  {
   "cell_type": "markdown",
   "id": "adaab855-d35c-47c4-bc3e-cd18bef65832",
   "metadata": {},
   "source": [
    "## Задание 10.\n",
    "    Выведите числа из примера на for c функцией range() (пример 10) в\n",
    "    обратном порядке."
   ]
  },
  {
   "cell_type": "code",
   "execution_count": 13,
   "id": "72170ecd-5b8d-456e-9a39-41144dbe7774",
   "metadata": {},
   "outputs": [
    {
     "name": "stdout",
     "output_type": "stream",
     "text": [
      "105\n",
      "80\n",
      "55\n",
      "30\n",
      "5\n"
     ]
    }
   ],
   "source": [
    "for i in range(105, 4, -25):\n",
    "    print(i)"
   ]
  },
  {
   "cell_type": "markdown",
   "id": "84180b42-e89e-4ba7-9621-c2c6ab8bddfb",
   "metadata": {},
   "source": [
    "## Задание 11.\n",
    "    Код Цезаря\n",
    "    Одним из первых в истории примеров шифрования считаются\n",
    "    закодированные послания Юлия Цезаря. Римскому полководцу\n",
    "    необходимо было посылать письменные приказы своим генералам, но\n",
    "    он не желал, чтобы в случае чего их прочитали недруги.\n",
    "    В результате он стал шифровать свои послания довольно простым\n",
    "    методом, который впоследствии стали называть кодом Цезаря.\n",
    "    Идея шифрования была совершенно тривиальной и заключалась\n",
    "    в циклическом сдвиге букв на три позиции.\n",
    "    В итоге буква A превращалась в D, B – в E, C – в F и т. д.\n",
    "    Последние три буквы алфавита переносились на начало.\n",
    "    Таким образом, буква X становилась A, Y – B, а Z – C.\n",
    "    Цифры и другие символы не подвергались шифрованию.\n",
    "    Напишите программу, реализующую код Цезаря.\n",
    "    Позвольте пользователю ввести фразу и количество символов для\n",
    "    сдвига, после чего выведите результирующее сообщение. Убедитесь в\n",
    "    том, что ваша программа шифрует как строчные, так и прописные\n",
    "    буквы.\n",
    "    Также, должна быть возможность указывать отрицательный\n",
    "    сдвиг, чтобы можно было использовать вашу программу для\n",
    "    расшифровки фраз.\n",
    "    Замечание. Функция ord преобразует символ в целочисленную\n",
    "    позицию в таблице ASCII. Функция chr возвращает символ в таблице\n",
    "    ASCII по позиции, переданной в качестве аргумента."
   ]
  },
  {
   "cell_type": "code",
   "execution_count": 7,
   "id": "651e43e2-2a75-435d-bcd0-27baa8dde0fb",
   "metadata": {},
   "outputs": [
    {
     "name": "stdin",
     "output_type": "stream",
     "text": [
      "Выберите язык для шифровки или дешифровки: Русский/Английский Русский\n",
      "Введите текст для шифрования/расшифровки:  Цезарь упал\n",
      "Введите величину сдвига (можно отрицательную):  1\n"
     ]
    },
    {
     "name": "stdout",
     "output_type": "stream",
     "text": [
      "Результат: Чжибсэ фрбм\n"
     ]
    }
   ],
   "source": [
    "def caesar_cipher(text, shift, lang):\n",
    "    result = []\n",
    "    for char in text:\n",
    "        if lang == 'Русский':\n",
    "            base = ord('А') if char.isupper() else ord('а')\n",
    "            num = 33\n",
    "        elif lang == 'Английский':\n",
    "            base = ord('A') if char.isupper() else ord('a')\n",
    "            num = 26\n",
    "        if char.isalpha(): \n",
    "            shifted = (ord(char) - base + shift) % num\n",
    "            result.append(chr(base + shifted))\n",
    "        else:\n",
    "            result.append(char)\n",
    "\n",
    "    return ''.join(result)\n",
    "\n",
    "\n",
    "lang = input('Выберите язык для шифровки или дешифровки: Русский/Английский')\n",
    "text = input(\"Введите текст для шифрования/расшифровки: \")\n",
    "shift = int(input(\"Введите величину сдвига (можно отрицательную): \"))\n",
    "\n",
    "\n",
    "encoded_text = caesar_cipher(text, shift, lang)\n",
    "print(f\"Результат: {encoded_text}\")\n"
   ]
  },
  {
   "cell_type": "markdown",
   "id": "91974608-eb5d-49ff-a8d4-261224046401",
   "metadata": {},
   "source": [
    "## Задание 12.\n",
    "    Палиндром или нет?\n",
    "    Строка называется палиндромом, если она пишется одинаково в\n",
    "    обоих направлениях.\n",
    "    Например, палиндромами в английском языке являются слова\n",
    "    «anna», «civic», «level», «hannah».\n",
    "    Напишите программу, запрашивающую у пользователя строку и\n",
    "    при помощи цикла определяющую, является ли она палиндромом.\n",
    "    (Код желательно в количестве примерно 30 строк).\n",
    "    Примечание.\n",
    "    Яибофобия (Aibohphobia) – это безрассудный страх палиндромов.\n",
    "    Эти слова в русском и английском сами по себе являются\n",
    "    палиндромами, что и привело к их образованию.\n",
    "    Напротив, яилифилия (ailihphilia) характеризуется любовью к\n",
    "    палиндромам. Объяснять образование этого слова нет нужды)."
   ]
  },
  {
   "cell_type": "code",
   "execution_count": 2,
   "id": "4d8bd54b-17af-4efa-9a67-c0f1d491a7c2",
   "metadata": {},
   "outputs": [
    {
     "name": "stdin",
     "output_type": "stream",
     "text": [
      "Введите строку для проверки:  Ada, motom ada\n"
     ]
    },
    {
     "name": "stdout",
     "output_type": "stream",
     "text": [
      "Это палиндром!\n"
     ]
    }
   ],
   "source": [
    "def is_palindrome(text):\n",
    "    clean_text = ''.join(char.lower() for char in text if char.isalnum())\n",
    "\n",
    "    left = 0\n",
    "    right = len(clean_text) - 1\n",
    "\n",
    "    while left < right:\n",
    "        if clean_text[left] != clean_text[right]:\n",
    "            return False\n",
    "        left += 1\n",
    "        right -= 1\n",
    "\n",
    "    return True\n",
    "\n",
    "\n",
    "text = input(\"Введите строку для проверки: \")\n",
    "\n",
    "if is_palindrome(text):\n",
    "    print(\"Это палиндром!\")\n",
    "else:\n",
    "    print(\"Это не палиндром.\")\n"
   ]
  },
  {
   "cell_type": "code",
   "execution_count": null,
   "id": "7456fdf7-5da0-4293-9363-24cc9ba0bf61",
   "metadata": {},
   "outputs": [],
   "source": []
  },
  {
   "cell_type": "code",
   "execution_count": null,
   "id": "11071919-79e1-44fb-9a42-ac35f228ef2c",
   "metadata": {},
   "outputs": [],
   "source": []
  }
 ],
 "metadata": {
  "kernelspec": {
   "display_name": "Python 3 (ipykernel)",
   "language": "python",
   "name": "python3"
  },
  "language_info": {
   "codemirror_mode": {
    "name": "ipython",
    "version": 3
   },
   "file_extension": ".py",
   "mimetype": "text/x-python",
   "name": "python",
   "nbconvert_exporter": "python",
   "pygments_lexer": "ipython3",
   "version": "3.12.3"
  }
 },
 "nbformat": 4,
 "nbformat_minor": 5
}
