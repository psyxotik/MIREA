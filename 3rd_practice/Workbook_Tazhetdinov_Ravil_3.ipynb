{
 "cells": [
  {
   "cell_type": "markdown",
   "id": "1a85566e-d92c-4a33-9e89-e9214f8094d0",
   "metadata": {},
   "source": [
    "## 1.3.1 Задание\n",
    "    Создать 8x8 матрицу и заполнить её в шахматном порядке нулями и\n",
    "    единицами.\n"
   ]
  },
  {
   "cell_type": "code",
   "execution_count": 17,
   "id": "50a4770b-4d43-4c4e-bbad-69949770c8e0",
   "metadata": {},
   "outputs": [
    {
     "name": "stdout",
     "output_type": "stream",
     "text": [
      "[[0 1 0 1 0 1 0 1]\n",
      " [1 0 1 0 1 0 1 0]\n",
      " [0 1 0 1 0 1 0 1]\n",
      " [1 0 1 0 1 0 1 0]\n",
      " [0 1 0 1 0 1 0 1]\n",
      " [1 0 1 0 1 0 1 0]\n",
      " [0 1 0 1 0 1 0 1]\n",
      " [1 0 1 0 1 0 1 0]]\n"
     ]
    }
   ],
   "source": [
    "import numpy as np\n",
    "a = np.arange(0, 64).reshape(8, 8)\n",
    "for i in range(8):\n",
    "    for j in range(8):\n",
    "        if (i + j) % 2 == 0:\n",
    "            a[i][j] = 0\n",
    "        else:\n",
    "            a[i][j] = 1\n",
    "print(a)"
   ]
  },
  {
   "cell_type": "code",
   "execution_count": 2,
   "id": "e660e2f2-1abf-4f4f-83b8-9752f833763f",
   "metadata": {},
   "outputs": [
    {
     "name": "stdout",
     "output_type": "stream",
     "text": [
      "Collecting numpy\n",
      "  Obtaining dependency information for numpy from https://files.pythonhosted.org/packages/b7/98/5640a09daa3abf0caeaefa6e7bf0d10c0aa28a77c84e507d6a716e0e23df/numpy-2.1.1-cp312-cp312-win_amd64.whl.metadata\n",
      "  Using cached numpy-2.1.1-cp312-cp312-win_amd64.whl.metadata (59 kB)\n",
      "Using cached numpy-2.1.1-cp312-cp312-win_amd64.whl (12.6 MB)\n",
      "Installing collected packages: numpy\n",
      "Successfully installed numpy-2.1.1\n"
     ]
    },
    {
     "name": "stderr",
     "output_type": "stream",
     "text": [
      "\n",
      "[notice] A new release of pip is available: 23.2.1 -> 24.2\n",
      "[notice] To update, run: python.exe -m pip install --upgrade pip\n"
     ]
    }
   ],
   "source": [
    "!pip install numpy\n"
   ]
  },
  {
   "cell_type": "markdown",
   "id": "473f670e-0c4d-42ce-a05e-dce9c25c5c9f",
   "metadata": {},
   "source": [
    "## 1.3.2 Задание\n",
    "    Создать 5x5 матрицу со значениями в строках от 0 до 4. Для создания\n",
    "    необходимо использовать функцию arrange."
   ]
  },
  {
   "cell_type": "code",
   "execution_count": 10,
   "id": "df459731-054e-46c6-bcb9-6163f2b08948",
   "metadata": {},
   "outputs": [
    {
     "name": "stdout",
     "output_type": "stream",
     "text": [
      "[[0 1 2 3 4]\n",
      " [0 1 2 3 4]\n",
      " [0 1 2 3 4]\n",
      " [0 1 2 3 4]\n",
      " [0 1 2 3 4]]\n"
     ]
    }
   ],
   "source": [
    "import numpy as np\n",
    "a = np.arange(0, 25).reshape(5, 5)\n",
    "for i in range(5):\n",
    "    for j in range(5):\n",
    "        a[i][j] = a[i][j] - 5 * i\n",
    "print(a)"
   ]
  },
  {
   "cell_type": "markdown",
   "id": "ec116de4-84ac-47a4-83f7-ec587e0cfdd6",
   "metadata": {},
   "source": [
    "## 1.3.3 Задание\n",
    "    Создать массив 3x3x3 со случайными значениями"
   ]
  },
  {
   "cell_type": "code",
   "execution_count": 27,
   "id": "23fdf097-43af-446d-9426-af358199758c",
   "metadata": {},
   "outputs": [
    {
     "name": "stdout",
     "output_type": "stream",
     "text": [
      "[[[24 60 52]\n",
      "  [73 94 74]\n",
      "  [52 81 18]]\n",
      "\n",
      " [[28 55 12]\n",
      "  [57 18 66]\n",
      "  [86 11 96]]\n",
      "\n",
      " [[12 79 23]\n",
      "  [59 90 40]\n",
      "  [29 26 89]]] \n",
      "\n",
      "[[[0.43468584 0.66132738 0.90237974]\n",
      "  [0.33401697 0.91998994 0.182852  ]\n",
      "  [0.42209141 0.60073994 0.63861161]]\n",
      "\n",
      " [[0.70939585 0.62451649 0.58861274]\n",
      "  [0.7989583  0.47818011 0.31570981]\n",
      "  [0.79629245 0.93350722 0.17247197]]\n",
      "\n",
      " [[0.87611067 0.4371556  0.2869506 ]\n",
      "  [0.29871719 0.61209111 0.08921704]\n",
      "  [0.16242997 0.53730674 0.8883887 ]]]\n"
     ]
    }
   ],
   "source": [
    "from random import randint\n",
    "a = np.arange(27).reshape(3,3,3)\n",
    "for i in range(3):\n",
    "    for j in range(3):\n",
    "        for k in range(3):\n",
    "            a[i][j][k] = randint(1,100)\n",
    "print(a, '\\n')\n",
    "n = np.random.random((3,3,3))\n",
    "print(n)"
   ]
  },
  {
   "cell_type": "markdown",
   "id": "3de588d5-e989-4ac7-ae25-758014d98bd8",
   "metadata": {},
   "source": [
    "## 1.3.4 Задание\n",
    "    Создать матрицу с 0 внутри, и 1 на границах"
   ]
  },
  {
   "cell_type": "code",
   "execution_count": 31,
   "id": "f84ddc16-a128-40e4-97b7-fc0fa3f0d6d1",
   "metadata": {},
   "outputs": [
    {
     "name": "stdout",
     "output_type": "stream",
     "text": [
      "[[1 1 1 1 1]\n",
      " [1 0 0 0 0]\n",
      " [1 0 0 0 0]\n",
      " [1 0 0 0 0]\n",
      " [1 1 1 1 1]]\n"
     ]
    }
   ],
   "source": [
    "a = np.arange(25).reshape(5, 5)\n",
    "for i in range(5):\n",
    "    for j in range(5):\n",
    "        if i == 0 or i == 4 or j == 0 or j == 0:\n",
    "            a[i][j] = 1\n",
    "        else:\n",
    "            a[i][j] = 0\n",
    "print(a)"
   ]
  },
  {
   "cell_type": "markdown",
   "id": "d04fb15a-ac4a-4825-867a-37f70e196222",
   "metadata": {},
   "source": [
    "## 1.3.5 Задание\n",
    "    Создайте массив и отсортируйте его по убыванию"
   ]
  },
  {
   "cell_type": "code",
   "execution_count": 36,
   "id": "f14b9d28-6337-400e-a14e-c88ef57dd694",
   "metadata": {},
   "outputs": [
    {
     "ename": "TypeError",
     "evalue": "sort() got an unexpected keyword argument 'key'",
     "output_type": "error",
     "traceback": [
      "\u001b[1;31m---------------------------------------------------------------------------\u001b[0m",
      "\u001b[1;31mTypeError\u001b[0m                                 Traceback (most recent call last)",
      "Cell \u001b[1;32mIn[36], line 2\u001b[0m\n\u001b[0;32m      1\u001b[0m a \u001b[38;5;241m=\u001b[39m np\u001b[38;5;241m.\u001b[39marray([\u001b[38;5;241m1\u001b[39m, \u001b[38;5;241m2\u001b[39m , \u001b[38;5;241m4\u001b[39m, \u001b[38;5;241m5\u001b[39m, \u001b[38;5;241m6\u001b[39m, \u001b[38;5;241m3\u001b[39m])\n\u001b[1;32m----> 2\u001b[0m \u001b[38;5;28mprint\u001b[39m(\u001b[43mnp\u001b[49m\u001b[38;5;241;43m.\u001b[39;49m\u001b[43msort\u001b[49m\u001b[43m(\u001b[49m\u001b[43ma\u001b[49m\u001b[43m,\u001b[49m\u001b[43m \u001b[49m\u001b[43mkey\u001b[49m\u001b[38;5;241;43m=\u001b[39;49m\u001b[38;5;28;43mreversed\u001b[39;49m\u001b[43m)\u001b[49m)\n",
      "\u001b[1;31mTypeError\u001b[0m: sort() got an unexpected keyword argument 'key'"
     ]
    }
   ],
   "source": [
    "a = np.array([1, 2 , 4, 5, 6, 3])\n",
    "print(np.sort(a, key=reversed))"
   ]
  },
  {
   "cell_type": "code",
   "execution_count": null,
   "id": "bd8a60c6-2a23-493b-98d9-6298cd44d0e0",
   "metadata": {},
   "outputs": [],
   "source": []
  }
 ],
 "metadata": {
  "kernelspec": {
   "display_name": "Python 3 (ipykernel)",
   "language": "python",
   "name": "python3"
  },
  "language_info": {
   "codemirror_mode": {
    "name": "ipython",
    "version": 3
   },
   "file_extension": ".py",
   "mimetype": "text/x-python",
   "name": "python",
   "nbconvert_exporter": "python",
   "pygments_lexer": "ipython3",
   "version": "3.12.3"
  }
 },
 "nbformat": 4,
 "nbformat_minor": 5
}
